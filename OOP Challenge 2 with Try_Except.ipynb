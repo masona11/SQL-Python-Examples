{
 "cells": [
  {
   "cell_type": "code",
   "execution_count": 1,
   "id": "c6ea9751",
   "metadata": {},
   "outputs": [
    {
     "name": "stdout",
     "output_type": "stream",
     "text": [
      "Enter account number: 12499101\n",
      "Enter account holder name: Bob Smith\n",
      "Please enter deposit amount: 1000\n",
      "Enter withdrawal amount: 100\n",
      "Account balance: 900.0\n",
      "Last withdrawal: 100.0\n"
     ]
    }
   ],
   "source": [
    "class BankAccount:\n",
    "    def __init__(self, account_number, account_holder):\n",
    "        self.account_number = account_number\n",
    "        self.account_holder = account_holder\n",
    "        self.balance = 0.0\n",
    "\n",
    "    def deposit(self, amount):\n",
    "        self.balance += amount\n",
    "\n",
    "    def withdrawal(self, amount):\n",
    "        if amount > self.balance:\n",
    "            print(\"Sorry, you don't have enough funds\")\n",
    "        else:\n",
    "            self.balance -= amount\n",
    "            return amount\n",
    "\n",
    "while True:\n",
    "    try:\n",
    "        account_number = input(\"Enter account number: \")\n",
    "        if not account_number.isnumeric():\n",
    "            raise ValueError(\"Please enter a valid number\")\n",
    "        account_holder = input(\"Enter account holder name: \")\n",
    "        if account_holder.isnumeric():\n",
    "            raise ValueError(\"Please enter a valid name\")\n",
    "        deposit_amount_str = input(\"Please enter deposit amount: \")\n",
    "        if not deposit_amount_str.isnumeric():\n",
    "            raise ValueError(\"Please enter a valid number\")\n",
    "        deposit_amount = float(deposit_amount_str)\n",
    "        withdrawal_amount_str = input(\"Enter withdrawal amount: \")\n",
    "        if not withdrawal_amount_str.isnumeric():\n",
    "            raise ValueError(\"Please enter a valid number\")\n",
    "        withdrawal_amount = float(withdrawal_amount_str)\n",
    "        break\n",
    "    except ValueError as e:\n",
    "        print(e)\n",
    "\n",
    "saving_account = BankAccount(account_number, account_holder)\n",
    "saving_account.deposit(deposit_amount)\n",
    "last_withdrawal = saving_account.withdrawal(withdrawal_amount)\n",
    "\n",
    "print(\"Account balance:\", saving_account.balance)\n",
    "print(\"Last withdrawal:\", last_withdrawal)\n"
   ]
  },
  {
   "cell_type": "code",
   "execution_count": null,
   "id": "6fac50bd",
   "metadata": {},
   "outputs": [],
   "source": []
  }
 ],
 "metadata": {
  "kernelspec": {
   "display_name": "Python 3 (ipykernel)",
   "language": "python",
   "name": "python3"
  },
  "language_info": {
   "codemirror_mode": {
    "name": "ipython",
    "version": 3
   },
   "file_extension": ".py",
   "mimetype": "text/x-python",
   "name": "python",
   "nbconvert_exporter": "python",
   "pygments_lexer": "ipython3",
   "version": "3.9.13"
  }
 },
 "nbformat": 4,
 "nbformat_minor": 5
}
