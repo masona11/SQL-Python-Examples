{
 "cells": [
  {
   "cell_type": "markdown",
   "metadata": {},
   "source": [
    "___\n",
    "\n",
    "<a href='https://www.udemy.com/user/joseportilla/'><img src='../Pierian_Data_Logo.png'/></a>\n",
    "___\n",
    "<center><em>Content Copyright by Pierian Data</em></center>"
   ]
  },
  {
   "cell_type": "markdown",
   "metadata": {},
   "source": [
    "# Object Oriented Programming Challenge\n",
    "\n",
    "For this challenge, create a bank account class that has two attributes:\n",
    "\n",
    "* owner\n",
    "* balance\n",
    "\n",
    "and two methods:\n",
    "\n",
    "* deposit\n",
    "* withdraw\n",
    "\n",
    "As an added requirement, withdrawals may not exceed the available balance.\n",
    "\n",
    "Instantiate your class, make several deposits and withdrawals, and test to make sure the account can't be overdrawn."
   ]
  },
  {
   "cell_type": "code",
   "execution_count": 13,
   "metadata": {},
   "outputs": [
    {
     "name": "stdout",
     "output_type": "stream",
     "text": [
      "Please input the amount you wish to deposit 1000\n",
      "You have succesfully deposited 1000.0\n",
      "How much would you like to withdraw? 100\n",
      "You have succesfully withdrew 100.0\n",
      "Would you like to check your balance? Y or N: n\n"
     ]
    }
   ],
   "source": [
    "class Account:\n",
    "    def __init__(self,owner, balance):\n",
    "        self.owner = owner\n",
    "        self.balance = balance\n",
    "        \n",
    "    def deposit(self, deposit):\n",
    "        self.balance += deposit\n",
    "        return self.deposit\n",
    "        \n",
    "    def withdrawal(self, withdrawal):\n",
    "        if withdrawal > self.balance:\n",
    "            print(\"Sorry, not enough funds available \")\n",
    "        else:\n",
    "            self.balance -= withdrawal\n",
    "            return self.withdrawal\n",
    "        \n",
    "    def check_balance(self):\n",
    "        return self.balance\n",
    "    \n",
    "\n",
    "# 1. Instantiate the class\n",
    "acct1 = Account('Jose',100)\n",
    "\n",
    "while True:\n",
    "    deposit = float(input(\"Please input the amount you wish to deposit \"))\n",
    "    print(\"You have succesfully deposited {}\".format(deposit))\n",
    "    withdrawal = float(input(\"How much would you like to withdraw? \"))\n",
    "    print(\"You have succesfully withdrew {}\".format(withdrawal))\n",
    "    check_input = input(\"Would you like to check your balance? Y or N: \")\n",
    "    check_balance = check_input.upper()\n",
    "    if check_balance == \"Y\":\n",
    "        print(\"Your balance is {}\".format(acct1.check_balance()))\n",
    "        break\n",
    "    elif check_balance == \"N\":\n",
    "        break"
   ]
  },
  {
   "cell_type": "code",
   "execution_count": 14,
   "metadata": {},
   "outputs": [
    {
     "data": {
      "text/plain": [
       "1000.0"
      ]
     },
     "execution_count": 14,
     "metadata": {},
     "output_type": "execute_result"
    }
   ],
   "source": [
    "# 1. Instantiate the class\n",
    "acct1 = Account('Jose',100)\n",
    "acct1.deposit(deposit)\n",
    "acct1.withdrawal(withdrawal)\n",
    "acct1.check_balance()"
   ]
  },
  {
   "cell_type": "code",
   "execution_count": 15,
   "metadata": {},
   "outputs": [
    {
     "name": "stdout",
     "output_type": "stream",
     "text": [
      "<__main__.Account object at 0x00000145E7082970>\n"
     ]
    }
   ],
   "source": [
    "# 2. Print the object\n",
    "print(acct1)"
   ]
  },
  {
   "cell_type": "code",
   "execution_count": 16,
   "metadata": {},
   "outputs": [
    {
     "data": {
      "text/plain": [
       "'Jose'"
      ]
     },
     "execution_count": 16,
     "metadata": {},
     "output_type": "execute_result"
    }
   ],
   "source": [
    "# 3. Show the account owner attribute\n",
    "acct1.owner"
   ]
  },
  {
   "cell_type": "code",
   "execution_count": 17,
   "metadata": {},
   "outputs": [
    {
     "data": {
      "text/plain": [
       "1000.0"
      ]
     },
     "execution_count": 17,
     "metadata": {},
     "output_type": "execute_result"
    }
   ],
   "source": [
    "# 4. Show the account balance attribute\n",
    "acct1.balance"
   ]
  },
  {
   "cell_type": "code",
   "execution_count": 18,
   "metadata": {},
   "outputs": [
    {
     "data": {
      "text/plain": [
       "<bound method Account.deposit of <__main__.Account object at 0x00000145E7082970>>"
      ]
     },
     "execution_count": 18,
     "metadata": {},
     "output_type": "execute_result"
    }
   ],
   "source": [
    "# 5. Make a series of deposits and withdrawals\n",
    "acct1.deposit(50)"
   ]
  },
  {
   "cell_type": "code",
   "execution_count": 19,
   "metadata": {},
   "outputs": [
    {
     "data": {
      "text/plain": [
       "<bound method Account.withdrawal of <__main__.Account object at 0x00000145E7082970>>"
      ]
     },
     "execution_count": 19,
     "metadata": {},
     "output_type": "execute_result"
    }
   ],
   "source": [
    "acct1.withdrawal(75)"
   ]
  },
  {
   "cell_type": "code",
   "execution_count": 20,
   "metadata": {
    "scrolled": false
   },
   "outputs": [
    {
     "data": {
      "text/plain": [
       "<bound method Account.withdrawal of <__main__.Account object at 0x00000145E7082970>>"
      ]
     },
     "execution_count": 20,
     "metadata": {},
     "output_type": "execute_result"
    }
   ],
   "source": [
    "# 6. Make a withdrawal that exceeds the available balance\n",
    "acct1.withdrawal(500)"
   ]
  },
  {
   "cell_type": "code",
   "execution_count": 21,
   "metadata": {},
   "outputs": [
    {
     "name": "stdout",
     "output_type": "stream",
     "text": [
      "<bound method Account.withdrawal of <__main__.Account object at 0x00000145E7082970>>\n"
     ]
    }
   ],
   "source": [
    "print(acct1.withdrawal(withdrawal))"
   ]
  },
  {
   "cell_type": "markdown",
   "metadata": {},
   "source": [
    "## Good job!"
   ]
  }
 ],
 "metadata": {
  "kernelspec": {
   "display_name": "Python 3 (ipykernel)",
   "language": "python",
   "name": "python3"
  },
  "language_info": {
   "codemirror_mode": {
    "name": "ipython",
    "version": 3
   },
   "file_extension": ".py",
   "mimetype": "text/x-python",
   "name": "python",
   "nbconvert_exporter": "python",
   "pygments_lexer": "ipython3",
   "version": "3.9.13"
  }
 },
 "nbformat": 4,
 "nbformat_minor": 2
}
